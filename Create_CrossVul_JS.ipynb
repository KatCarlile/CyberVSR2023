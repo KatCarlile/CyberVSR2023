{
  "nbformat": 4,
  "nbformat_minor": 0,
  "metadata": {
    "colab": {
      "provenance": [],
      "mount_file_id": "14ARCBgEuC04QyUA_P-TVX9N7TIJgyMyH",
      "authorship_tag": "ABX9TyONbVOu57FBMxdXfU9Dh3FX",
      "include_colab_link": true
    },
    "kernelspec": {
      "name": "python3",
      "display_name": "Python 3"
    },
    "language_info": {
      "name": "python"
    }
  },
  "cells": [
    {
      "cell_type": "markdown",
      "metadata": {
        "id": "view-in-github",
        "colab_type": "text"
      },
      "source": [
        "<a href=\"https://colab.research.google.com/github/KatCarlile/CyberVSR2023/blob/main/Create_CrossVul_JS.ipynb\" target=\"_parent\"><img src=\"https://colab.research.google.com/assets/colab-badge.svg\" alt=\"Open In Colab\"/></a>"
      ]
    },
    {
      "cell_type": "code",
      "execution_count": null,
      "metadata": {
        "id": "LrHyzPrC1UtO"
      },
      "outputs": [],
      "source": [
        "def authenticate():\n",
        "    auth.authenticate_user()\n",
        "    gauth = GoogleAuth()\n",
        "    gauth.credentials = GoogleCredentials.get_application_default()\n",
        "    return GoogleDrive(gauth)\n",
        "\n"
      ]
    },
    {
      "cell_type": "code",
      "source": [
        "import os\n",
        "\n",
        "!pip install -U -q PyDrive\n",
        "from pydrive.auth import GoogleAuth\n",
        "from pydrive.drive import GoogleDrive\n",
        "\n",
        "from oauth2client.client import GoogleCredentials\n",
        "from google.colab import drive\n",
        "from google.colab import auth\n",
        "\n",
        "def main():\n",
        "    # Set the folder ID of the Google Drive directory to process\n",
        "    folder_id = '/content/gdrive/MyDrive/CrossVul_Dataset/dataset'\n",
        "\n",
        "\n",
        "if __name__ == '__main__':\n",
        "    main()"
      ],
      "metadata": {
        "id": "A_lj-0BZpXEW"
      },
      "execution_count": null,
      "outputs": []
    },
    {
      "cell_type": "code",
      "source": [
        "from google.colab import drive\n",
        "#Mount Google Drive\n",
        "drive.mount(\"/content/gdrive\")\n",
        "drive = authenticate()"
      ],
      "metadata": {
        "colab": {
          "base_uri": "https://localhost:8080/"
        },
        "id": "2gu_i6pnr0EZ",
        "outputId": "0c0f71e3-5653-41b6-8c93-e32c59617f0c"
      },
      "execution_count": null,
      "outputs": [
        {
          "output_type": "stream",
          "name": "stdout",
          "text": [
            "Mounted at /content/gdrive\n"
          ]
        }
      ]
    }
  ]
}